{
 "cells": [
  {
   "cell_type": "code",
   "execution_count": 1,
   "id": "59991452",
   "metadata": {},
   "outputs": [],
   "source": [
    "import numpy as np\n",
    "from lce import LCEClassifier\n",
    "from sklearn.datasets import load_iris\n",
    "from sklearn.metrics import classification_report\n",
    "from sklearn.model_selection import train_test_split"
   ]
  },
  {
   "cell_type": "code",
   "execution_count": 2,
   "id": "c77d9e39",
   "metadata": {},
   "outputs": [
    {
     "name": "stdout",
     "output_type": "stream",
     "text": [
      "              precision    recall  f1-score   support\n",
      "\n",
      "           0       1.00      1.00      1.00        13\n",
      "           1       0.94      0.94      0.94        16\n",
      "           2       0.89      0.89      0.89         9\n",
      "\n",
      "    accuracy                           0.95        38\n",
      "   macro avg       0.94      0.94      0.94        38\n",
      "weighted avg       0.95      0.95      0.95        38\n",
      "\n"
     ]
    }
   ],
   "source": [
    "# Load data and generate a train/test split\n",
    "data = load_iris()\n",
    "X_train, X_test, y_train, y_test = train_test_split(data.data, data.target, random_state=0)\n",
    "\n",
    "# Input 20% of missing values per variable in the train set\n",
    "np.random.seed(0)\n",
    "m = 0.2\n",
    "for j in range(0, X_train.shape[1]):\n",
    "    sub = np.random.choice(X_train.shape[0], int(X_train.shape[0]*m))\n",
    "    X_train[sub, j] = np.nan\n",
    "\n",
    "# Train LCEClassifier with default parameters\n",
    "clf = LCEClassifier(n_jobs=-1, random_state=123)\n",
    "clf.fit(X_train, y_train)\n",
    "\n",
    "# Make prediction and generate classification report\n",
    "y_pred = clf.predict(X_test)\n",
    "print(classification_report(y_test, y_pred))"
   ]
  }
 ],
 "metadata": {
  "kernelspec": {
   "display_name": "Python 3 (ipykernel)",
   "language": "python",
   "name": "python3"
  },
  "language_info": {
   "codemirror_mode": {
    "name": "ipython",
    "version": 3
   },
   "file_extension": ".py",
   "mimetype": "text/x-python",
   "name": "python",
   "nbconvert_exporter": "python",
   "pygments_lexer": "ipython3",
   "version": "3.8.13"
  }
 },
 "nbformat": 4,
 "nbformat_minor": 5
}
